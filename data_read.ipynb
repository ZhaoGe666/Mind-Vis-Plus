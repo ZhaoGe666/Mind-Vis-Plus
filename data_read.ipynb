{
 "cells": [
  {
   "cell_type": "code",
   "execution_count": 1,
   "metadata": {},
   "outputs": [
    {
     "data": {
      "text/plain": [
       "['imagenet_class_index.json',\n",
       " 'sbj_3.npz',\n",
       " 'sbj_1.npz',\n",
       " 'sbj_4.npz',\n",
       " 'imagenet_training_label.csv',\n",
       " 'images_256.npz',\n",
       " 'imagenet_testing_label.csv',\n",
       " 'sbj_2.npz',\n",
       " 'sbj_5.npz']"
      ]
     },
     "execution_count": 1,
     "metadata": {},
     "output_type": "execute_result"
    }
   ],
   "source": [
    "import os\n",
    "root = './data/Kamitani/npz'\n",
    "os.listdir(root)"
   ]
  },
  {
   "cell_type": "code",
   "execution_count": 12,
   "metadata": {},
   "outputs": [
    {
     "name": "stdout",
     "output_type": "stream",
     "text": [
      "V1 (4643,)\n",
      "V2 (4643,)\n",
      "V3 (4643,)\n",
      "V4 (4643,)\n",
      "FFA (4643,)\n",
      "PPA (4643,)\n",
      "LOC (4643,)\n",
      "LVC (4643,)\n",
      "HVC (4643,)\n",
      "VC (4643,)\n",
      "arr_0 (1200, 4643)\n",
      "arr_1 (1750, 4643)\n",
      "arr_2 (50, 4643)\n",
      "arr_3 (1200,)\n",
      "arr_4 (1750,)\n",
      "arr_5 (4643,)\n",
      "arr_6 (4643,)\n"
     ]
    }
   ],
   "source": [
    "import numpy as np\n",
    "\n",
    "path = './data/Kamitani/npz/sbj_3.npz'\n",
    "npz = dict(np.load(path))\n",
    "# print(npz)\n",
    "for key, value in npz.items():\n",
    "    print(key,value.shape)\n"
   ]
  },
  {
   "cell_type": "code",
   "execution_count": 4,
   "metadata": {},
   "outputs": [
    {
     "name": "stdout",
     "output_type": "stream",
     "text": [
      "Module(\n",
      "  (linear): Linear(in_features=10, out_features=5, bias=True)\n",
      ")\n"
     ]
    },
    {
     "data": {
      "text/plain": [
       "Linear(in_features=10, out_features=5, bias=True)"
      ]
     },
     "execution_count": 4,
     "metadata": {},
     "output_type": "execute_result"
    }
   ],
   "source": [
    "import torch.nn as nn\n",
    "\n",
    "# 创建父模块实例\n",
    "parent_module = nn.Module()\n",
    "\n",
    "# 创建子模块实例\n",
    "child_module = nn.Linear(10, 5)\n",
    "\n",
    "# 将子模块添加到父模块中，并指定名称\n",
    "parent_module.add_module(\"linear\", child_module)\n",
    "print(parent_module)\n",
    "parent_module.linear"
   ]
  },
  {
   "cell_type": "code",
   "execution_count": null,
   "metadata": {},
   "outputs": [],
   "source": []
  }
 ],
 "metadata": {
  "kernelspec": {
   "display_name": "mind-vis",
   "language": "python",
   "name": "python3"
  },
  "language_info": {
   "codemirror_mode": {
    "name": "ipython",
    "version": 3
   },
   "file_extension": ".py",
   "mimetype": "text/x-python",
   "name": "python",
   "nbconvert_exporter": "python",
   "pygments_lexer": "ipython3",
   "version": "3.8.5"
  },
  "orig_nbformat": 4
 },
 "nbformat": 4,
 "nbformat_minor": 2
}
