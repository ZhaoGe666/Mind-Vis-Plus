{
 "cells": [
  {
   "cell_type": "code",
   "execution_count": null,
   "metadata": {},
   "outputs": [],
   "source": [
    "import numpy as np\n",
    "\n",
    "npz = dict(np.load('./data/HCP/npz/100206/HCP_visual_voxel.npz'))\n",
    "# print()\n",
    "v1 = npz['V1']\n",
    "v2 = npz['V2']\n",
    "v3 = npz['V3']\n",
    "v4 = npz['V4']\n",
    "a = len(v1)\n",
    "b = np.array_split(v1,3,axis=0)"
   ]
  },
  {
   "cell_type": "markdown",
   "metadata": {},
   "source": [
    "在单一subject下，四个区域的fMRI数据尺寸为 (1200,1618),(1200,2220),(1200,684),(1200,661)"
   ]
  },
  {
   "cell_type": "code",
   "execution_count": null,
   "metadata": {},
   "outputs": [],
   "source": [
    "import os\n",
    "from config import Config_MBM_fMRI\n",
    "from dataset import hcp_dataset\n",
    "from stageA1_mbm_pretrain import fmri_transform\n",
    "import cv2 as cv\n",
    "import numpy as np\n",
    "\n",
    "config = Config_MBM_fMRI()\n",
    "dataset_pretrain = hcp_dataset(path=os.path.join(config.root_path, 'data/HCP/npz'), roi=config.roi, patch_size=config.patch_size,\n",
    "                transform=fmri_transform, aug_times=config.aug_times, num_sub_limit=config.num_sub_limit, \n",
    "                include_kam=config.include_kam, include_hcp=config.include_hcp)\n",
    "sample_data = dataset_pretrain[6000]\n",
    "img = sample_data['image']\n",
    "image_array = np.array(img)\n"
   ]
  },
  {
   "cell_type": "code",
   "execution_count": 9,
   "metadata": {},
   "outputs": [
    {
     "data": {
      "text/plain": [
       "_CudaDeviceProperties(name='NVIDIA GeForce RTX 3090', major=8, minor=6, total_memory=24259MB, multi_processor_count=82)"
      ]
     },
     "execution_count": 9,
     "metadata": {},
     "output_type": "execute_result"
    }
   ],
   "source": [
    "import torch\n",
    "torch.cuda.get_device_properties(0)"
   ]
  },
  {
   "cell_type": "code",
   "execution_count": 12,
   "metadata": {},
   "outputs": [
    {
     "name": "stdout",
     "output_type": "stream",
     "text": [
      "{'lr': 0.00025, 'min_lr': 0.0, 'weight_decay': 0.05, 'num_epoch': 500, 'warmup_epochs': 40, 'batch_size': 100, 'clip_grad': 0.8, 'mask_ratio': 0.75, 'patch_size': 16, 'embed_dim': 1024, 'decoder_embed_dim': 512, 'depth': 24, 'num_heads': 16, 'decoder_num_heads': 16, 'mlp_ratio': 1.0, 'root_path': '.', 'output_path': '.', 'seed': 2022, 'roi': 'VC', 'aug_times': 1, 'num_sub_limit': None, 'include_hcp': True, 'include_kam': True, 'accum_iter': 1, 'use_nature_img_loss': False, 'img_recon_weight': 0.5, 'focus_range': None, 'focus_rate': 0.6, 'local_rank': 0, 'num_voxels': 0}\n"
     ]
    }
   ],
   "source": [
    "from config import Config_MBM_fMRI\n",
    "\n",
    "config = Config_MBM_fMRI()\n",
    "\n",
    "config.num_voxels = 0\n",
    "print(config.__dict__)"
   ]
  },
  {
   "cell_type": "code",
   "execution_count": 2,
   "metadata": {},
   "outputs": [
    {
     "name": "stdout",
     "output_type": "stream",
     "text": [
      "22-08-2023-11-14-43\n"
     ]
    }
   ],
   "source": [
    "import datetime\n",
    "print(datetime.datetime.now().strftime(\"%d-%m-%Y-%H-%M-%S\"))"
   ]
  }
 ],
 "metadata": {
  "kernelspec": {
   "display_name": "mind-vis",
   "language": "python",
   "name": "python3"
  },
  "language_info": {
   "codemirror_mode": {
    "name": "ipython",
    "version": 3
   },
   "file_extension": ".py",
   "mimetype": "text/x-python",
   "name": "python",
   "nbconvert_exporter": "python",
   "pygments_lexer": "ipython3",
   "version": "3.8.5"
  },
  "orig_nbformat": 4
 },
 "nbformat": 4,
 "nbformat_minor": 2
}
